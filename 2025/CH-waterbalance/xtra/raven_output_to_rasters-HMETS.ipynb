{
 "cells": [
  {
   "cell_type": "markdown",
   "metadata": {},
   "source": [
    "# Creating Output Rasters\n",
    "\n",
    "The following script converts Raven model output into raster files readily accessible to standard GIS software (e.g., ArcGIS, QGIS). In addition, simulated long-term average recharge rates are converted into MODFLOW-ready files to simulate the groundwater system (in steady-state) under the Raven-simulated recharge regime."
   ]
  },
  {
   "cell_type": "markdown",
   "metadata": {},
   "source": [
    "## Load Python packages and import data"
   ]
  },
  {
   "cell_type": "code",
   "execution_count": 1,
   "metadata": {},
   "outputs": [],
   "source": [
    "import os\n",
    "import pickle\n",
    "import numpy as np\n",
    "import pandas as pd\n",
    "import shapefile\n",
    "from PIL import Image, ImageDraw"
   ]
  },
  {
   "cell_type": "markdown",
   "metadata": {},
   "source": [
    "### Set model output directory, user settings\n",
    "\n",
    "> Users must change the following input according to the model they wish to convert."
   ]
  },
  {
   "cell_type": "code",
   "execution_count": 2,
   "metadata": {},
   "outputs": [],
   "source": [
    "indir = '../model_baseline/output/' # directory of Raven output\n",
    "modflowdir = '../MODFLOW/'\n",
    "hrufp = '../model_baseline/Raven2025-hruid.bil' # HRU reference map, produced using update_landuse.ipynb\n",
    "swsfp = '../GIS/CH_Subwatershed_select.shp' # Raven sub-basin polygons\n",
    "mdlprfx = 'Raven2025' # model short-name prefix"
   ]
  },
  {
   "cell_type": "markdown",
   "metadata": {},
   "source": [
    "grid definition"
   ]
  },
  {
   "cell_type": "code",
   "execution_count": 3,
   "metadata": {},
   "outputs": [],
   "source": [
    "# (keep consistent with input raster definition)\n",
    "nrows = 719\n",
    "ncols = 726\n",
    "xul = 1323330\n",
    "yul = 11906070\n",
    "cs = 60. # grid cell width"
   ]
  },
  {
   "cell_type": "markdown",
   "metadata": {},
   "source": [
    "Raven to MODFLOW mapping"
   ]
  },
  {
   "cell_type": "code",
   "execution_count": 4,
   "metadata": {},
   "outputs": [],
   "source": [
    "mapfp = '../scripts/supp/Raven2025_to_SHModel-CH_310_map.pkl' # used to map Raven HRUs to MODFLOW cells"
   ]
  },
  {
   "cell_type": "markdown",
   "metadata": {},
   "source": [
    "## Import HRU ID raster"
   ]
  },
  {
   "cell_type": "code",
   "execution_count": null,
   "metadata": {},
   "outputs": [],
   "source": [
    "# Reads integer rasters\n",
    "def readIntRaster(fp):\n",
    "    aa = np.fromfile(fp,np.int32)\n",
    "    if len(aa) == nrows*ncols:\n",
    "        x = dict(zip(np.arange(nrows*ncols),aa))\n",
    "    elif len(aa) == nrows*ncols/2:\n",
    "        aa = np.fromfile(fp,np.int16)\n",
    "        x = dict(zip(np.arange(nrows*ncols),aa))\n",
    "    else:\n",
    "        print(\" ** Warning, unknown raster size {}\",fp)\n",
    "        return None\n",
    "    return x"
   ]
  },
  {
   "cell_type": "code",
   "execution_count": null,
   "metadata": {},
   "outputs": [],
   "source": [
    "xhru = readIntRaster(hrufp) # hruid to MODFLOW cell cross-reference"
   ]
  },
  {
   "cell_type": "markdown",
   "metadata": {},
   "source": [
    "## Import Sub-Basins\n",
    "\n",
    "- Collect raster cells contained within each sub-basin"
   ]
  },
  {
   "cell_type": "code",
   "execution_count": null,
   "metadata": {},
   "outputs": [],
   "source": [
    "def polygonToCellIDs(pts, nrows=719, ncols=726, xul=1323330, yul=11906070, cs=60):\n",
    "    img = Image.new('L', (ncols, nrows), 0)\n",
    "    offset = [xul, yul-nrows*cs]\n",
    "    pixelpoly = [((x-offset[0])/cs, nrows-(y-offset[1])/cs) for x,y in pts]\n",
    "    ImageDraw.Draw(img).polygon(pixelpoly, outline=1, fill=1)\n",
    "    mask = np.array(img)\n",
    "    return np.arange(nrows*ncols)[mask.reshape(nrows*ncols)>0]    \n",
    "\n",
    "def loadSWS(fp):\n",
    "    sf = shapefile.Reader(fp)\n",
    "    geom = sf.shapes()\n",
    "    attr = sf.records()\n",
    "    xr = dict()\n",
    "    for i in range(len(geom)):\n",
    "        sid = int(attr[i].SubId)\n",
    "        xr[sid] = polygonToCellIDs(geom[i].points)\n",
    "    return xr"
   ]
  },
  {
   "cell_type": "code",
   "execution_count": null,
   "metadata": {},
   "outputs": [],
   "source": [
    "xsb = loadSWS(swsfp) # sub-basin to cell cross reference"
   ]
  },
  {
   "cell_type": "markdown",
   "metadata": {},
   "source": [
    "## Import Model Outputs\n",
    "\n",
    "- Precipitation\n",
    "- Total actual evapotranspiration (AET)\n",
    "- Runoff:\n",
    "    - from impervious areas\n",
    "    - hortonian runoff (form pervious areas)\n",
    "    - delayed runoff\n",
    "    - interflow\n",
    "- Groundwater recharge\n",
    "- Infiltration\n",
    "- Baseflow"
   ]
  },
  {
   "cell_type": "markdown",
   "metadata": {},
   "source": [
    "### Model output file read function"
   ]
  },
  {
   "cell_type": "code",
   "execution_count": null,
   "metadata": {},
   "outputs": [],
   "source": [
    "def readRaven(fp, isaccumulated, warmup=24):\n",
    "    # load data\n",
    "    df = pd.read_csv(fp, skiprows=1, parse_dates=['month'], date_format=\"%Y-%m\")\n",
    "    df = df.iloc[warmup:, :-1] # drop warmup period and drop last column (..a Raven quirk)\n",
    "\n",
    "    df['month'] = pd.to_datetime(df['month'])\n",
    "    df['month'] = df['month'].dt.month\n",
    "\n",
    "    # drop columns\n",
    "    df = df.drop(columns='time')\n",
    "        \n",
    "    # rename columns\n",
    "    cols = [w.replace('mean.','').replace('cumulsum.','') for w in list(df.columns)]\n",
    "    cols[1] = '0'\n",
    "    df.columns = cols\n",
    "\n",
    "    # change accumulation to discrete monthly values\n",
    "    if isaccumulated:\n",
    "        df2 = df.diff()\n",
    "        df2 = df2.fillna(df)\n",
    "        df2['month'] = df['month']\n",
    "        df = df2\n",
    "\n",
    "    df = df.groupby(['month']).mean().sum() # long-term mean\n",
    "    return {int(k)+1:v for k,v in df.items()}\n"
   ]
  },
  {
   "cell_type": "code",
   "execution_count": null,
   "metadata": {},
   "outputs": [],
   "source": [
    "dprecip = readRaven(indir+mdlprfx+'_PRECIP_Monthly_CumulSum_ByHRU.csv',False)                                 # precipitation\n",
    "daet = readRaven(indir+mdlprfx+'_AET_Monthly_CumulSum_ByHRU.csv',False)                                       # evapotranspiration\n",
    "dimpro = readRaven(indir+mdlprfx+'_BETWEEN_PONDED_WATER_AND_SURFACE_WATER_Monthly_Average_ByHRU.csv',True)    # impervious runoff\n",
    "dprvro = readRaven(indir+mdlprfx+'_BETWEEN_PONDED_WATER_AND_CONVOLUTION[0]_Monthly_Average_ByHRU.csv',True)   # pervious/hortonion runoff\n",
    "ddlyro = readRaven(indir+mdlprfx+'_BETWEEN_PONDED_WATER_AND_CONVOLUTION[1]_Monthly_Average_ByHRU.csv',True)   # delayed runoff\n",
    "dintflw = readRaven(indir+mdlprfx+'_BETWEEN_SOIL[0]_AND_SURFACE_WATER_Monthly_Average_ByHRU.csv',True)        # interflow/hypodermic flkow\n",
    "drecharge = readRaven(indir+mdlprfx+'_TO_SOIL[1]_Monthly_Average_ByHRU.csv',True)                             # recharge\n",
    "dinfilt =  readRaven(indir+mdlprfx+'_BETWEEN_PONDED_WATER_AND_SOIL[0]_Monthly_Average_ByHRU.csv',True)        # infiltration\n",
    "dbasflw = readRaven(indir+mdlprfx+'_BETWEEN_SOIL[1]_AND_SURFACE_WATER_Monthly_Average_ByHRU.csv',True)        # baseflow"
   ]
  },
  {
   "cell_type": "markdown",
   "metadata": {},
   "source": [
    "## Map Model Outputs to Raster Files"
   ]
  },
  {
   "cell_type": "code",
   "execution_count": null,
   "metadata": {},
   "outputs": [],
   "source": [
    "def dictToNp(dat, nr, nc, nodata=-9999.):\n",
    "    def crc(c): # cell to row-col\n",
    "        i = int(c/nc)\n",
    "        j = c - i*nc\n",
    "        return (i,j)    \n",
    "\n",
    "    a = np.full((nr,nc),nodata,dtype=np.float32)\n",
    "    for cid,v in dat.items(): a[crc(cid)] = np.float32(v)\n",
    "    return a\n",
    "\n",
    "\n",
    "def saveBinaryFloat(fp, dat):\n",
    "    fn, _ = os.path.splitext(fp)\n",
    "    with open(fn+'.hdr', 'w') as f: # save header\n",
    "        f.write('BYTEORDER      I\\n')\n",
    "        f.write('LAYOUT         BIL\\n')\n",
    "        f.write('NROWS          '+str(nrows)+'\\n')\n",
    "        f.write('NCOLS          '+str(ncols)+'\\n')\n",
    "        f.write('NBANDS         1\\n')\n",
    "        f.write('NBITS          32\\n')\n",
    "        f.write('BANDROWBYTES   '+str(nrows*4)+'\\n')\n",
    "        f.write('TOTALROWBYTES  '+str(nrows*4)+'\\n')\n",
    "        f.write('PIXELTYPE      FLOAT\\n')\n",
    "        f.write('ULXMAP         '+str(xul+cs/2)+'\\n') # The x-axis map coordinate of the center of the upper-left pixel.\n",
    "        f.write('ULYMAP         '+str(yul-cs/2)+'\\n') # The y-axis map coordinate of the center of the upper-left pixel.\n",
    "        f.write('XDIM           '+str(cs)+'\\n')\n",
    "        f.write('YDIM           '+str(cs)+'\\n')\n",
    "        f.write('NODATA         -9999\\n')\n",
    "\n",
    "    a = dictToNp(dat,nrows, ncols)\n",
    "    if os.path.exists(fp): os.remove(fp)\n",
    "    a.tofile(fp) # always saved in C-order (row-major)    "
   ]
  },
  {
   "cell_type": "markdown",
   "metadata": {},
   "source": [
    "Water Balance\n",
    "\n",
    "$$ P = E + R + G + \\Delta S $$\n",
    "\n",
    "where $P$ is precipitation, $E$ is total evapotranspiration, $R$ is runoff, $G$ is groundwater recharge, and $\\Delta S$ is the change in surface storage, calculated as the residual."
   ]
  },
  {
   "cell_type": "code",
   "execution_count": null,
   "metadata": {},
   "outputs": [],
   "source": [
    "pre = dict()\n",
    "aet = dict()\n",
    "roff = dict()\n",
    "rch = dict()\n",
    "rsid = dict()\n",
    "for c,h in xhru.items():\n",
    "    if h==-9999: continue\n",
    "    pre[c]=dprecip[h]\n",
    "    aet[c]=daet[h]\n",
    "    roff[c]=dimpro[h]+dprvro[h]+ddlyro[h]+dintflw[h]\n",
    "    rch[c]=drecharge[h]\n",
    "    rsid[c]=pre[c]-aet[c]-roff[c]-rch[c]\n",
    "\n",
    "saveBinaryFloat(indir+mdlprfx+'_longterm.precipitation.bil',pre)\n",
    "saveBinaryFloat(indir+mdlprfx+'_longterm.evapotranspiration.bil',aet)\n",
    "saveBinaryFloat(indir+mdlprfx+'_longterm.runoff.bil',roff)\n",
    "saveBinaryFloat(indir+mdlprfx+'_longterm.recharge.bil',rch)\n",
    "saveBinaryFloat(indir+mdlprfx+'_longterm.residual.bil',rsid)"
   ]
  },
  {
   "cell_type": "markdown",
   "metadata": {},
   "source": [
    "## Create MODFLOW RCH file\n",
    "\n",
    "The remaining code block uses only the groundwater recharge estimates to produce:\n",
    "\n",
    "1. MODFLOW recharge input file (_*RCH_) \n",
    "2. Significant Groundwater Recharge Areas (SGRAs) exported as a raster"
   ]
  },
  {
   "cell_type": "markdown",
   "metadata": {},
   "source": [
    "First, defined MODFLOW grid definition of `SHModel-CH_310-NWT`:"
   ]
  },
  {
   "cell_type": "code",
   "execution_count": null,
   "metadata": {},
   "outputs": [],
   "source": [
    "gwNrow = 885\n",
    "gwNcol = 890"
   ]
  },
  {
   "cell_type": "code",
   "execution_count": null,
   "metadata": {},
   "outputs": [],
   "source": [
    "with open(mapfp,'rb') as f: gmap = pickle.load(f)\n",
    "grch, wrch = dict(), dict()\n",
    "for c,ws in  gmap.items():\n",
    "    for cRaven,w in ws.items():\n",
    "        if cRaven==-1: continue\n",
    "        if c in grch:\n",
    "            grch[c]+=w*rch[cRaven]\n",
    "            wrch[c]+=w\n",
    "        else:\n",
    "            grch[c]=w*rch[cRaven]\n",
    "            wrch[c]=w\n",
    "\n",
    "meanrch = sum(grch.values()) / len(grch) \n",
    "for c in gmap:\n",
    "    if c in grch: \n",
    "        grch[c]/=wrch[c]\n",
    "    else:\n",
    "        grch[c]=meanrch\n",
    "\n",
    "arch = dictToNp(grch, gwNrow, gwNcol, 0)\n",
    "arch.tofile(modflowdir+mdlprfx+ \".rch.bil\")\n",
    "hdr = '         3        49   NRCHOP,IRCHCB\\n    0    0   INRECH,INIRCH\\nINTERNAL     3.1689E-11 (890E11.3)   -1   Longterm groundwater recharge from {}'.format(mdlprfx)\n",
    "np.savetxt(modflowdir+mdlprfx+ \".rch\", arch, header=hdr, comments='', fmt='%10.3e', delimiter=' ')\n"
   ]
  },
  {
   "cell_type": "markdown",
   "metadata": {},
   "source": [
    "## Build SGRAs"
   ]
  },
  {
   "cell_type": "code",
   "execution_count": null,
   "metadata": {},
   "outputs": [],
   "source": [
    "# mean = np.mean(rch.values)\n",
    "sgra = np.array(list(rch.values()))\n",
    "rchavg = sgra.mean()\n",
    "print(rchavg) # mean recharge\n",
    "sgra = sgra >= rchavg * 1.15\n",
    "saveBinaryFloat(indir+mdlprfx+'_longterm.recharge-SGRA.bil',rch)"
   ]
  }
 ],
 "metadata": {
  "kernelspec": {
   "display_name": "Python 3",
   "language": "python",
   "name": "python3"
  },
  "language_info": {
   "codemirror_mode": {
    "name": "ipython",
    "version": 3
   },
   "file_extension": ".py",
   "mimetype": "text/x-python",
   "name": "python",
   "nbconvert_exporter": "python",
   "pygments_lexer": "ipython3",
   "version": "3.13.5"
  }
 },
 "nbformat": 4,
 "nbformat_minor": 2
}
