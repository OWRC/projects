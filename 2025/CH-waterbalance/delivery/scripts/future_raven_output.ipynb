{
 "cells": [
  {
   "cell_type": "markdown",
   "id": "8aa51579",
   "metadata": {},
   "source": [
    "# Read Future Climate Simulations\n",
    "\n",
    "This script is used to read Raven model outputs after the model has been run with climate change projections. The script simply takes the output of the model and compares water balances (at the sub-watershed scale) for 2 user-defined time periods."
   ]
  },
  {
   "cell_type": "markdown",
   "id": "ca5fe657",
   "metadata": {},
   "source": [
    "import packages"
   ]
  },
  {
   "cell_type": "code",
   "execution_count": 64,
   "id": "13981908",
   "metadata": {},
   "outputs": [],
   "source": [
    "import pandas as pd\n",
    "import numpy as np\n",
    "import shapefile\n",
    "from PIL import Image, ImageDraw"
   ]
  },
  {
   "cell_type": "markdown",
   "id": "48e0b487",
   "metadata": {},
   "source": [
    "### Set model output directory, user settings\n",
    "\n",
    "> Users must change the following input according to the model they wish to read."
   ]
  },
  {
   "cell_type": "code",
   "execution_count": 65,
   "id": "4eda4729",
   "metadata": {},
   "outputs": [],
   "source": [
    "ravenoutputdir = '../model_future_climate_CSIRO-Mk3-6-0_RCP85/output/' # directory of Raven output\n",
    "hrufp = '../model_baseline/Raven2025-hruid.bil' # HRU reference map, produced using update_landuse.ipynb\n",
    "swsfp = '../GIS/CH_Subs_Raven2025.shp' # Raven sub-basin polygons\n",
    "mdlprfx = 'Raven2025' # model short-name prefix"
   ]
  },
  {
   "cell_type": "markdown",
   "id": "41fedd00",
   "metadata": {},
   "source": [
    "## Import Sub-Basins\n",
    "\n",
    "- Collect raster cells contained within each sub-basin"
   ]
  },
  {
   "cell_type": "code",
   "execution_count": 66,
   "id": "f3cfefc6",
   "metadata": {},
   "outputs": [],
   "source": [
    "def polygonToCellIDs(pts, nrows=719, ncols=726, xul=1323330, yul=11906070, cs=60):\n",
    "    img = Image.new('L', (ncols, nrows), 0)\n",
    "    offset = [xul, yul-nrows*cs]\n",
    "    pixelpoly = [((x-offset[0])/cs, nrows-(y-offset[1])/cs) for x,y in pts]\n",
    "    ImageDraw.Draw(img).polygon(pixelpoly, outline=1, fill=1)\n",
    "    mask = np.array(img)\n",
    "    return np.arange(nrows*ncols)[mask.reshape(nrows*ncols)>0]    \n",
    "\n",
    "def loadSWS(fp):\n",
    "    sf = shapefile.Reader(fp)\n",
    "    geom = sf.shapes()\n",
    "    attr = sf.records()\n",
    "    xr = dict()\n",
    "    for i in range(len(geom)):\n",
    "        sid = int(attr[i].SubId)\n",
    "        xr[sid] = polygonToCellIDs(geom[i].points)\n",
    "    return xr"
   ]
  },
  {
   "cell_type": "code",
   "execution_count": 67,
   "id": "f4093be2",
   "metadata": {},
   "outputs": [],
   "source": [
    "xsb = loadSWS(swsfp) # sub-basin to cell cross reference"
   ]
  },
  {
   "cell_type": "markdown",
   "id": "2d53d648",
   "metadata": {},
   "source": [
    "## Import HRU ID raster"
   ]
  },
  {
   "cell_type": "code",
   "execution_count": 68,
   "id": "1a74bf08",
   "metadata": {},
   "outputs": [],
   "source": [
    "# grid definition (keep consistent with input raster definition)\n",
    "nrows = 719\n",
    "ncols = 726\n",
    "xul = 1323330\n",
    "yul = 11906070\n",
    "cs = 60. # grid cell width\n",
    "\n",
    "# Reads integer rasters\n",
    "def readIntRaster(fp):\n",
    "    aa = np.fromfile(fp,np.int32)\n",
    "    if len(aa) == nrows*ncols:\n",
    "        x = dict(zip(np.arange(nrows*ncols),aa))\n",
    "    elif len(aa) == nrows*ncols/2:\n",
    "        aa = np.fromfile(fp,np.int16)\n",
    "        x = dict(zip(np.arange(nrows*ncols),aa))\n",
    "    else:\n",
    "        print(\" ** Warning, unknown raster size {}\",fp)\n",
    "        return None\n",
    "    return x"
   ]
  },
  {
   "cell_type": "code",
   "execution_count": 69,
   "id": "9d3f4572",
   "metadata": {},
   "outputs": [],
   "source": [
    "xhru = readIntRaster(hrufp) # hruid to MODFLOW cell cross-reference"
   ]
  },
  {
   "cell_type": "markdown",
   "id": "c2e45518",
   "metadata": {},
   "source": [
    "## Import Model Outputs\n",
    "\n",
    "- Precipitation\n",
    "- Total actual evapotranspiration (AET)\n",
    "- Runoff\n",
    "- Groundwater recharge\n",
    "- Baseflow"
   ]
  },
  {
   "cell_type": "markdown",
   "id": "95797a3f",
   "metadata": {},
   "source": [
    "### Model output file read function"
   ]
  },
  {
   "cell_type": "code",
   "execution_count": null,
   "id": "40ca1933",
   "metadata": {},
   "outputs": [],
   "source": [
    "def readRaven(fp, isaccumulated, dtCurrentBegin='1991-10-01', dtCurrentEnd='2021-09-30', dtFutureBegin='2041-10-01', dtFutureEnd='2071-09-30'):\n",
    "    # load data\n",
    "    df = pd.read_csv(fp, skiprows=1, parse_dates=['month'], date_format=\"%Y-%m\")\n",
    "    df = df.iloc[:, :-1] # drop last column (..a Raven quirk)\n",
    "    df = df.drop(columns='time')\n",
    "\n",
    "    # change accumulation to discrete monthly values\n",
    "    if isaccumulated:\n",
    "        df2 = df.diff()\n",
    "        df2 = df2.fillna(df)\n",
    "        df2['month'] = df['month']\n",
    "        df = df2    \n",
    "    \n",
    "    dfcurrent = df[(df.month>=dtCurrentBegin) & (df.month<=dtCurrentEnd)]\n",
    "    dffuture =  df[(df.month>=dtFutureBegin) & (df.month<=dtFutureEnd)]\n",
    "\n",
    "    def reformat(df1):\n",
    "        # rename columns\n",
    "        cols = [w.replace('mean.','').replace('cumulsum.','') for w in list(df.columns)]\n",
    "        cols[1] = '0'\n",
    "        df1.columns = cols\n",
    "        df1.index=df1['month']\n",
    "        df1 = df1.drop(columns='month')\n",
    "\n",
    "        df1 = df1.mean(axis=0)*12\n",
    "        return {int(k)+1:v for k,v in df1.items()}\n",
    "    \n",
    "    return reformat(dfcurrent), reformat(dffuture)"
   ]
  },
  {
   "cell_type": "code",
   "execution_count": 71,
   "id": "0b092d52",
   "metadata": {},
   "outputs": [],
   "source": [
    "dprecip, dprecipFuture = readRaven(ravenoutputdir+mdlprfx+'_PRECIP_Monthly_CumulSum_ByHRU.csv',False)                             # precipitation\n",
    "daet, daetFuture = readRaven(ravenoutputdir+mdlprfx+'_AET_Monthly_CumulSum_ByHRU.csv',False)                                      # evapotranspiration\n",
    "dro, droFuture = readRaven(ravenoutputdir+mdlprfx+'_RUNOFF_Monthly_CumulSum_ByHRU.csv',False)                                     # runoff\n",
    "drecharge, drechargeFuture = readRaven(ravenoutputdir+mdlprfx+'_BETWEEN_SOIL[1]_AND_SOIL[2]_Monthly_Average_ByHRU.csv',True)      # recharge\n",
    "dbasflw, dbasflwFuture = readRaven(ravenoutputdir+mdlprfx+'_BETWEEN_SOIL[2]_AND_SURFACE_WATER_Monthly_Average_ByHRU.csv',True)    # baseflow"
   ]
  },
  {
   "cell_type": "markdown",
   "id": "689c9574",
   "metadata": {},
   "source": [
    "### CH sub-watershed summaries\n",
    "\n",
    "Long-term averages, exported to csv file, by sub-watershed ID in mm/yr"
   ]
  },
  {
   "cell_type": "code",
   "execution_count": 72,
   "id": "583421c8",
   "metadata": {},
   "outputs": [],
   "source": [
    "def gatherHRUtoSWS(seriesname,dpr,dae,droff,dbf,dg):\n",
    "    pre = dict()\n",
    "    aet = dict()\n",
    "    roff = dict()\n",
    "    rch = dict()\n",
    "    for c,h in xhru.items():\n",
    "        if h==-9999: continue\n",
    "        pre[c]=dpr[h]\n",
    "        aet[c]=dae[h]\n",
    "        roff[c]=droff[h]-dbf[h]\n",
    "        rch[c]=dg[h]\n",
    "\n",
    "    sp, sa, sr, sg = dict(), dict(), dict(), dict(),\n",
    "    for sid, cids in xsb.items():\n",
    "        sp[sid] = 0.\n",
    "        sa[sid] = 0.\n",
    "        sr[sid] = 0.\n",
    "        sg[sid] = 0.\n",
    "        for c in cids:\n",
    "            if not c in pre: continue\n",
    "            sp[sid] += pre[c]\n",
    "            sa[sid] += aet[c]\n",
    "            sr[sid] += roff[c]\n",
    "            sg[sid] += rch[c]\n",
    "        sp[sid] /= len(cids)\n",
    "        sa[sid] /= len(cids)\n",
    "        sr[sid] /= len(cids)\n",
    "        sg[sid] /= len(cids)        \n",
    "\n",
    "    df = pd.DataFrame([sp, sa, sr, sg]).T.rename(columns={0:'precipitation',1:'evapotranspiration',2:'runoff',3:'recharge'})\n",
    "    df.index.rename('swsID', inplace=True)\n",
    "    df.to_csv(ravenoutputdir+mdlprfx+'_SWS-waterbalance-{}.csv'.format(seriesname))    "
   ]
  },
  {
   "cell_type": "code",
   "execution_count": 73,
   "id": "285caec6",
   "metadata": {},
   "outputs": [],
   "source": [
    "gatherHRUtoSWS('current',dprecip,daet,dro,dbasflw,drecharge)\n",
    "gatherHRUtoSWS('future',dprecipFuture,daetFuture,droFuture,dbasflwFuture,drechargeFuture)"
   ]
  }
 ],
 "metadata": {
  "kernelspec": {
   "display_name": "Python 3",
   "language": "python",
   "name": "python3"
  },
  "language_info": {
   "codemirror_mode": {
    "name": "ipython",
    "version": 3
   },
   "file_extension": ".py",
   "mimetype": "text/x-python",
   "name": "python",
   "nbconvert_exporter": "python",
   "pygments_lexer": "ipython3",
   "version": "3.13.7"
  }
 },
 "nbformat": 4,
 "nbformat_minor": 5
}
