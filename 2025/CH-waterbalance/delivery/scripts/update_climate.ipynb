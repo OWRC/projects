{
 "cells": [
  {
   "cell_type": "markdown",
   "metadata": {},
   "source": [
    "# Update Raven Climate\n",
    "\n",
    "This script is used to update Raven climate input data using ORMGP's [Near Real-time Climate Data Service](https://owrc.github.io/interpolants/sources/climate-data-service.html).  The advantage here is that the data are fully infilled back to 1901 and are updated nightly. Running this script periodically will keep your Raven model up to date."
   ]
  },
  {
   "cell_type": "markdown",
   "metadata": {},
   "source": [
    "## Load Python packages and import data"
   ]
  },
  {
   "cell_type": "code",
   "execution_count": 16,
   "metadata": {},
   "outputs": [],
   "source": [
    "import os\n",
    "import pandas as pd\n",
    "from datetime import datetime\n",
    "import shapefile\n",
    "from shapely.geometry import shape\n",
    "from pyproj import Proj"
   ]
  },
  {
   "cell_type": "markdown",
   "metadata": {},
   "source": [
    "### Set output directory, user settings"
   ]
  },
  {
   "cell_type": "code",
   "execution_count": 25,
   "metadata": {},
   "outputs": [],
   "source": [
    "outdir = 'output/current_forcing' # directory for datafile output\n",
    "nyrs = 30 # number of years for a model run. (can go back to 1901)\n",
    "\n",
    "\n",
    "if not os.path.exists('output'): os.makedirs('output')\n",
    "if not os.path.exists(outdir): os.makedirs(outdir)"
   ]
  },
  {
   "cell_type": "markdown",
   "metadata": {},
   "source": [
    "### Load model subbasins\n",
    "\n",
    "- collect basin centroids"
   ]
  },
  {
   "cell_type": "code",
   "execution_count": 10,
   "metadata": {},
   "outputs": [],
   "source": [
    "centroids = dict()\n",
    "sf = shapefile.Reader('../GIS/CH_Subwatershed_select.shp')\n",
    "prj = Proj('EPSG:3161')\n",
    "geom = sf.shapes()\n",
    "attr = sf.records()\n",
    "for i in range(len(geom)):\n",
    "    sid = int(attr[i].SubId)\n",
    "    cyx = shape(geom[i]).centroid\n",
    "    lng,lat = prj(cyx.x, cyx.y, inverse=True)\n",
    "    centroids[sid] = (lng,lat)"
   ]
  },
  {
   "cell_type": "markdown",
   "metadata": {},
   "source": [
    "### ORMGP CDS API function\n",
    "\n",
    "This function will call the ORGMP Climate Data Service API and convert the data into Raven *Time Series Input file* (.rvt) format."
   ]
  },
  {
   "cell_type": "code",
   "execution_count": null,
   "metadata": {},
   "outputs": [],
   "source": [
    "def getDailyAPI(fp,lnglat,dtb):\n",
    "    url = \"http://fews.oakridgeswater.ca:8080/dymetp/{}/{}\".format(lnglat[1],lnglat[0])\n",
    "    df = pd.read_json(url)\n",
    "\n",
    "    df = df[df.Date>=dtb]\n",
    "    with open(fp,\"w\") as f:\n",
    "        f.write(':MultiData\\n')\n",
    "        f.write(' {} {} {}\\n'.format(dtb.strftime(\"%Y-%m-%d %H:%M:%S\"), 1, len(df.index)))        \n",
    "        f.write(' :Parameters  TEMP_MAX  TEMP_MIN    PRECIP\\n')\n",
    "        f.write(' :Units              C         C      mm/d\\n')\n",
    "        for _, row in df.iterrows():\n",
    "            f.write('            {:>10.2f}{:>10.2f}{:>10.1f}\\n'.format(round(row['Tx'],2)+0, round(row['Tn'],2)+0, row['Rf']+row['Sf']))\n",
    "        f.write(':EndMultiData\\n\\n')\n",
    "    return df['Date'].iloc[-1]"
   ]
  },
  {
   "cell_type": "markdown",
   "metadata": {},
   "source": [
    "Loop through centriods, collect data, write files"
   ]
  },
  {
   "cell_type": "code",
   "execution_count": null,
   "metadata": {},
   "outputs": [],
   "source": [
    "now = datetime.now()\n",
    "dtb = datetime(now.year-nyrs-1,10,1)\n",
    "for sid,lnglat in centroids.items():\n",
    "    dte = getDailyAPI(outdir+'/m{}.rvt'.format(sid),lnglat,dtb)"
   ]
  },
  {
   "cell_type": "markdown",
   "metadata": {},
   "source": [
    "Copy the following lines that need to replace those in the Raven *Primary Input file* (.rvi):"
   ]
  },
  {
   "cell_type": "code",
   "execution_count": 24,
   "metadata": {},
   "outputs": [
    {
     "name": "stdout",
     "output_type": "stream",
     "text": [
      ":StartDate 1994-10-01 00:00:00\n",
      ":EndDate   2025-01-20 13:45:22\n"
     ]
    }
   ],
   "source": [
    "print(':StartDate {}'.format(dtb.strftime(\"%Y-%m-%d %H:%M:%S\")))\n",
    "print(':EndDate   {}'.format(dte.strftime(\"%Y-%m-%d %H:%M:%S\")))"
   ]
  }
 ],
 "metadata": {
  "kernelspec": {
   "display_name": "Python 3",
   "language": "python",
   "name": "python3"
  },
  "language_info": {
   "codemirror_mode": {
    "name": "ipython",
    "version": 3
   },
   "file_extension": ".py",
   "mimetype": "text/x-python",
   "name": "python",
   "nbconvert_exporter": "python",
   "pygments_lexer": "ipython3",
   "version": "3.13.1"
  }
 },
 "nbformat": 4,
 "nbformat_minor": 2
}
