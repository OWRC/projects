{
 "cells": [
  {
   "cell_type": "markdown",
   "metadata": {},
   "source": [
    "# Summarize MODFLOW output\n",
    "The following script will summarize steady state groundwater flux outputted from a MODFLOW run."
   ]
  },
  {
   "cell_type": "markdown",
   "metadata": {},
   "source": [
    "## Load Python packages and import data"
   ]
  },
  {
   "cell_type": "code",
   "execution_count": 1,
   "metadata": {},
   "outputs": [
    {
     "name": "stdout",
     "output_type": "stream",
     "text": [
      "PyTables is not installed. No support for HDF output.\n"
     ]
    }
   ],
   "source": [
    "import os\n",
    "import numpy as np\n",
    "import shapefile\n",
    "import pickle\n",
    "from shapely.geometry import Polygon\n",
    "from simpledbf import Dbf5\n",
    "import flopy.utils.binaryfile as bf"
   ]
  },
  {
   "cell_type": "markdown",
   "metadata": {},
   "source": [
    "### Set file name to MODFLOW flux file (_*.flx_) the user wishes to summarize"
   ]
  },
  {
   "cell_type": "code",
   "execution_count": 2,
   "metadata": {},
   "outputs": [],
   "source": [
    "modflowdir = '../MODFLOW/'\n",
    "mdlprfx = 'SHModel-CH_310-NWT-Raven2025'\n",
    "modflowflxfp = \"../MODFLOW/\"+mdlprfx+\".flx\"\n"
   ]
  },
  {
   "cell_type": "markdown",
   "metadata": {},
   "source": [
    "### Set file name of polygons the user wished to summarize groundwater discharge to streams"
   ]
  },
  {
   "cell_type": "code",
   "execution_count": 3,
   "metadata": {},
   "outputs": [],
   "source": [
    "polygonfp = \"../GIS/CH_Subs_Raven2025.shp\""
   ]
  },
  {
   "cell_type": "markdown",
   "metadata": {},
   "source": [
    "### Set output raster definition"
   ]
  },
  {
   "cell_type": "code",
   "execution_count": 4,
   "metadata": {},
   "outputs": [],
   "source": [
    "# (keep consistent with Raven raster definition)\n",
    "nrows = 719\n",
    "ncols = 726\n",
    "xul = 1323330\n",
    "yul = 11906070\n",
    "cs = 60. # grid cell width"
   ]
  },
  {
   "cell_type": "markdown",
   "metadata": {},
   "source": [
    "### Import MODFLOW model cell to CH sub-basin cross-reference\n",
    "> do not change"
   ]
  },
  {
   "cell_type": "code",
   "execution_count": 5,
   "metadata": {},
   "outputs": [],
   "source": [
    "df = Dbf5(\"../GIS/SHModel-CH_310_centroids.dbf\").to_dataframe().dropna().astype('int32')\n",
    "dsws = dict(zip(df['CellID'], df['SubId']))\n",
    "for i in range(885*890):\n",
    "    if i in dsws: continue\n",
    "    dsws[i]=-9999\n",
    "dsws = dict(sorted(dsws.items()))\n",
    "sws = np.array(list(dsws.values()),dtype=np.int16).reshape((885,890))"
   ]
  },
  {
   "cell_type": "markdown",
   "metadata": {},
   "source": [
    "### Import Sub-basin polygons and collect areas"
   ]
  },
  {
   "cell_type": "code",
   "execution_count": 6,
   "metadata": {},
   "outputs": [],
   "source": [
    "sf = shapefile.Reader(polygonfp)\n",
    "geom = sf.shapes()\n",
    "attr = sf.records()\n",
    "darea = dict()\n",
    "for i in range(len(geom)):\n",
    "    plgn = Polygon(geom[i].points)\n",
    "    darea[int(attr[i]['SubId'])] = plgn.area"
   ]
  },
  {
   "cell_type": "markdown",
   "metadata": {},
   "source": [
    "## Read MODFLOW output steady-state fluxes\n",
    "\n",
    "Groundwater discharge to streams is represented in the model using 2 head-dependent flux boundary packages: \n",
    "1. `DRAINS` -- from the [DRN](https://water.usgs.gov/ogw/modflow-nwt/MODFLOW-NWT-Guide/drn.html) package; and\n",
    "1. `RIVER LEAKAGE` -- from the [RIV](https://water.usgs.gov/ogw/modflow-nwt/MODFLOW-NWT-Guide/riv.html) package."
   ]
  },
  {
   "cell_type": "code",
   "execution_count": 7,
   "metadata": {},
   "outputs": [
    {
     "name": "stdout",
     "output_type": "stream",
     "text": [
      "sub-basin 1: 45.3 mm/yr\n",
      "sub-basin 2: 64.6 mm/yr\n",
      "sub-basin 3: 167.2 mm/yr\n",
      "sub-basin 4: 21.1 mm/yr\n",
      "sub-basin 5: -5.5 mm/yr\n",
      "sub-basin 6: 134.6 mm/yr\n",
      "sub-basin 7: 58.4 mm/yr\n",
      "sub-basin 8: 149.0 mm/yr\n",
      "sub-basin 9: 95.8 mm/yr\n",
      "sub-basin 10: 77.1 mm/yr\n",
      "sub-basin 11: 4.2 mm/yr\n",
      "sub-basin 12: 252.3 mm/yr\n",
      "sub-basin 13: 0.0 mm/yr\n",
      "sub-basin 14: 61.9 mm/yr\n",
      "sub-basin 15: 38.8 mm/yr\n",
      "sub-basin 16: 114.0 mm/yr\n",
      "sub-basin 17: 232.9 mm/yr\n",
      "sub-basin 18: 15.5 mm/yr\n",
      "sub-basin 19: 220.8 mm/yr\n",
      "sub-basin 20: 41.2 mm/yr\n",
      "sub-basin 21: 116.8 mm/yr\n",
      "sub-basin 22: 121.3 mm/yr\n",
      "sub-basin 23: 58.0 mm/yr\n",
      "sub-basin 24: 58.8 mm/yr\n",
      "sub-basin 25: 244.3 mm/yr\n",
      "sub-basin 26: 15.5 mm/yr\n",
      "sub-basin 27: 110.6 mm/yr\n",
      "sub-basin 28: 47.7 mm/yr\n",
      "sub-basin 29: 124.9 mm/yr\n",
      "sub-basin 30: 152.7 mm/yr\n",
      "sub-basin 31: -27.2 mm/yr\n",
      "sub-basin 32: 85.3 mm/yr\n",
      "sub-basin 33: 118.0 mm/yr\n",
      "sub-basin 34: 12.7 mm/yr\n",
      "sub-basin 35: 87.7 mm/yr\n",
      "sub-basin 36: 8.8 mm/yr\n",
      "sub-basin 37: -11.3 mm/yr\n",
      "sub-basin 39: 81.1 mm/yr\n",
      "sub-basin 40: 163.2 mm/yr\n",
      "sub-basin 41: 31.8 mm/yr\n",
      "sub-basin 42: 4.5 mm/yr\n",
      "sub-basin 43: 26.9 mm/yr\n",
      "sub-basin 44: 48.0 mm/yr\n",
      "sub-basin 45: 71.1 mm/yr\n",
      "sub-basin 46: 11.9 mm/yr\n",
      "sub-basin 47: 176.8 mm/yr\n",
      "sub-basin 48: 168.7 mm/yr\n",
      "sub-basin 49: 104.7 mm/yr\n",
      "sub-basin 50: 234.2 mm/yr\n",
      "sub-basin 51: 22.3 mm/yr\n",
      "sub-basin 52: 0.0 mm/yr\n",
      "sub-basin 53: 186.6 mm/yr\n",
      "sub-basin 54: 214.3 mm/yr\n",
      "sub-basin 55: 7.2 mm/yr\n",
      "sub-basin 56: 39.9 mm/yr\n",
      "sub-basin 57: 81.6 mm/yr\n",
      "sub-basin 58: 63.9 mm/yr\n",
      "sub-basin 59: 203.1 mm/yr\n",
      "sub-basin 60: 397.5 mm/yr\n",
      "sub-basin 61: 285.1 mm/yr\n",
      "sub-basin 62: 103.2 mm/yr\n",
      "sub-basin 63: 150.4 mm/yr\n",
      "sub-basin 64: 130.4 mm/yr\n",
      "sub-basin 65: -2708.5 mm/yr\n",
      "sub-basin 66: 175.8 mm/yr\n",
      "sub-basin 67: 3012.8 mm/yr\n",
      "sub-basin 68: 51.8 mm/yr\n",
      "sub-basin 69: 576.1 mm/yr\n",
      "sub-basin 70: -10.4 mm/yr\n",
      "sub-basin 71: -35.2 mm/yr\n"
     ]
    }
   ],
   "source": [
    "flx = bf.CellBudgetFile(modflowflxfp)\n",
    "# print(flx.headers) # print available data\n",
    "\n",
    "rdrn = flx.get_data(kstpkper=(0,0), text='DRAINS', full3D=True)\n",
    "adrn = np.sum(np.array(rdrn[0]), axis=0)\n",
    "rriv = flx.get_data(kstpkper=(0,0), text='RIVER LEAKAGE', full3D=True)\n",
    "ariv = np.sum(np.array(rriv[0]), axis=0)\n",
    "\n",
    "gwd = -(adrn+ariv)*365.24*86400*1000 # convert total drainage from m3/s to mm·m2/yr\n",
    "\n",
    "dgwd = dict()\n",
    "for sid in set(dsws.values()):\n",
    "    if sid==-9999: continue\n",
    "    dgwd[sid] = np.sum(gwd[sws==sid])\n",
    "    print(\"sub-basin {}: {:.1f} mm/yr\".format(sid, dgwd[sid]/darea[sid]))"
   ]
  },
  {
   "cell_type": "markdown",
   "metadata": {},
   "source": [
    "### Summarize over gauges catchments"
   ]
  },
  {
   "cell_type": "code",
   "execution_count": 8,
   "metadata": {},
   "outputs": [
    {
     "name": "stdout",
     "output_type": "stream",
     "text": [
      "02HB004 88.49169\n",
      "02HB005 126.997604\n",
      "02HB011 172.18974\n",
      "02HB012 151.32932\n",
      "02HB022 147.98317\n",
      "02HB027 63.92938\n",
      "02HB028 202.83524\n",
      "02HB032 104.64441\n",
      "02HB033 119.85792\n"
     ]
    }
   ],
   "source": [
    "dgag = {'02HB004': [23,24,25,28,33,57,68,69],\n",
    "        '02HB005': [40,56,65,66,67],\n",
    "        '02HB011': [6,16,17,19,22,48,59,60,61,62,63,64],\n",
    "        '02HB012': [21,29,30,31,35,47,50,53,54],\n",
    "        '02HB022': [48,61,62,63,64],\n",
    "        '02HB027': [58],\n",
    "        '02HB028': [30,47,50],\n",
    "        '02HB032': [62,64],\n",
    "        '02HB033': [62,63,64]}\n",
    "\n",
    "for gag,sids in dgag.items():\n",
    "    sarea,sflx = 0., 0.\n",
    "    for s in sids:\n",
    "        sarea+=darea[s]\n",
    "        sflx+=dgwd[s]\n",
    "    print(gag, sflx/sarea)\n"
   ]
  },
  {
   "cell_type": "markdown",
   "metadata": {},
   "source": [
    "## Create GIS raster from MODFLOW output\n",
    "\n",
    "MODFLOW to raster mapping"
   ]
  },
  {
   "cell_type": "code",
   "execution_count": 9,
   "metadata": {},
   "outputs": [],
   "source": [
    "mapfp = '../scripts/supp/SHModel-CH_310_to_Raven2025_map.pkl' # used to map MODFLOW cells to Raven HRUs"
   ]
  },
  {
   "cell_type": "code",
   "execution_count": 10,
   "metadata": {},
   "outputs": [],
   "source": [
    "def dictToNp(dat, nr, nc, nodata=-9999.):\n",
    "    def crc(c): # cell to row-col\n",
    "        i = int(c/nc)\n",
    "        j = c - i*nc\n",
    "        return (i,j)    \n",
    "\n",
    "    a = np.full((nr,nc),nodata,dtype=np.float32)\n",
    "    for cid,v in dat.items(): a[crc(cid)] = np.float32(v)\n",
    "    return a\n",
    "\n",
    "\n",
    "def saveBinaryFloat(fp, dat):\n",
    "    fn, _ = os.path.splitext(fp)\n",
    "    with open(fn+'.hdr', 'w') as f: # save header\n",
    "        f.write('BYTEORDER      I\\n')\n",
    "        f.write('LAYOUT         BIL\\n')\n",
    "        f.write('NROWS          '+str(nrows)+'\\n')\n",
    "        f.write('NCOLS          '+str(ncols)+'\\n')\n",
    "        f.write('NBANDS         1\\n')\n",
    "        f.write('NBITS          32\\n')\n",
    "        f.write('BANDROWBYTES   '+str(nrows*4)+'\\n')\n",
    "        f.write('TOTALROWBYTES  '+str(nrows*4)+'\\n')\n",
    "        f.write('PIXELTYPE      FLOAT\\n')\n",
    "        f.write('ULXMAP         '+str(xul+cs/2)+'\\n') # The x-axis map coordinate of the center of the upper-left pixel.\n",
    "        f.write('ULYMAP         '+str(yul-cs/2)+'\\n') # The y-axis map coordinate of the center of the upper-left pixel.\n",
    "        f.write('XDIM           '+str(cs)+'\\n')\n",
    "        f.write('YDIM           '+str(cs)+'\\n')\n",
    "        f.write('NODATA         -9999\\n')\n",
    "\n",
    "    dat = dat.copy()\n",
    "    if type(dat)==dict: dat = dictToNp(dat,nrows,ncols)\n",
    "    if os.path.exists(fp): os.remove(fp)\n",
    "    dat.tofile(fp) # always saved in C-order (row-major)    "
   ]
  },
  {
   "cell_type": "code",
   "execution_count": 11,
   "metadata": {},
   "outputs": [
    {
     "name": "stdout",
     "output_type": "stream",
     "text": [
      " mean discharge to streams: 70.9 mm/yr\n"
     ]
    }
   ],
   "source": [
    "with open(mapfp,'rb') as f: gmap = pickle.load(f)\n",
    "dgwd, wgwd = dict(), dict()\n",
    "agwd = gwd.reshape(885*890)\n",
    "for c,ws in gmap.items():\n",
    "    for cMODFLOW,w in ws.items():\n",
    "        if c in dgwd:\n",
    "            dgwd[c]+=w*agwd[cMODFLOW]\n",
    "            wgwd[c]+=w\n",
    "        else:\n",
    "            dgwd[c]=w*agwd[cMODFLOW]\n",
    "            wgwd[c]=w\n",
    "\n",
    "for c in gmap: dgwd[c]/=wgwd[c]*cs*cs\n",
    "print(' mean discharge to streams: '+str(round(sum(dgwd.values()) / len(dgwd),1))+' mm/yr')\n",
    "saveBinaryFloat(modflowdir+mdlprfx+'_groundwater-discharge.bil',dgwd)"
   ]
  }
 ],
 "metadata": {
  "kernelspec": {
   "display_name": "Python 3",
   "language": "python",
   "name": "python3"
  },
  "language_info": {
   "codemirror_mode": {
    "name": "ipython",
    "version": 3
   },
   "file_extension": ".py",
   "mimetype": "text/x-python",
   "name": "python",
   "nbconvert_exporter": "python",
   "pygments_lexer": "ipython3",
   "version": "3.13.7"
  }
 },
 "nbformat": 4,
 "nbformat_minor": 2
}
