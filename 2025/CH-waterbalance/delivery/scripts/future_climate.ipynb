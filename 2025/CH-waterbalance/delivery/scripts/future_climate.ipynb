{
 "cells": [
  {
   "cell_type": "markdown",
   "id": "dd0dda26",
   "metadata": {},
   "source": [
    "# Create Future Climate\n",
    "\n",
    "This script is used to convert future climate projections from the [Ontario Climate Data Portal](https://lamps.math.yorku.ca/OntarioClimate/index_v18.htm) (OCDP) to the Raven climate input data format."
   ]
  },
  {
   "cell_type": "markdown",
   "id": "c617cc25",
   "metadata": {},
   "source": [
    "Import packages"
   ]
  },
  {
   "cell_type": "code",
   "execution_count": 1,
   "id": "088b46c3",
   "metadata": {},
   "outputs": [],
   "source": [
    "import os, shutil\n",
    "import numpy as np\n",
    "import scipy\n",
    "import shapefile\n",
    "from shapely.geometry import shape\n",
    "import pandas as pd\n",
    "from tqdm import tqdm"
   ]
  },
  {
   "cell_type": "markdown",
   "id": "d3ef3fe2",
   "metadata": {},
   "source": [
    "### Set model output directory, user settings\n",
    "\n",
    "> Users must change the following input according to the model they wish to convert."
   ]
  },
  {
   "cell_type": "code",
   "execution_count": 2,
   "id": "86bca518",
   "metadata": {},
   "outputs": [],
   "source": [
    "ravenbaselinemodelfile = '../model_baseline/Raven2025.rvi' # model user wishes to apply future climate to\n",
    "swsfp = \"../GIS/CH_Subs_Raven2025.shp\"\n",
    "ocdpfp = \"../GIS/OCDP/polygon9864-CH.shp\" # do not change\n",
    "rcp = 'RCP85' # select emission scenario (options: RCP26, RCP45, RCP60, RCP85)\n",
    "modelname = 'CSIRO-Mk3-6-0' # select model\n",
    "ravenfuturemodeldir = '../model_future_climate_{}_{}/'.format(modelname,rcp) # directory of future climate Raven directory"
   ]
  },
  {
   "cell_type": "markdown",
   "id": "eb41c918",
   "metadata": {},
   "source": [
    "Create directories and copy baseline model files"
   ]
  },
  {
   "cell_type": "code",
   "execution_count": 3,
   "id": "b564d865",
   "metadata": {},
   "outputs": [],
   "source": [
    "if not os.path.exists(ravenfuturemodeldir):\n",
    "    os.makedirs(ravenfuturemodeldir)\n",
    "    os.makedirs(ravenfuturemodeldir+'input')\n",
    "\n",
    "if not os.path.exists(ravenbaselinemodelfile):\n",
    "    print('ERROR: model files cannot be found')\n",
    "else:\n",
    "    fname = os.path.basename(ravenbaselinemodelfile)[:-4] # get model file name, remove extension\n",
    "    def copyRaven(ext):\n",
    "        if not os.path.exists(ravenfuturemodeldir+fname+ext): shutil.copy(ravenbaselinemodelfile[:-4]+ext,ravenfuturemodeldir+fname+ext)\n",
    "    copyRaven('.bat')\n",
    "    copyRaven('.rvc')\n",
    "    copyRaven('.rvh')\n",
    "    copyRaven('.rvi')\n",
    "    copyRaven('.rvp')\n",
    "    copyRaven('.rvt')\n",
    "    copyRaven('-channels.rvp')\n",
    "    copyRaven('-lakes.rvh')\n",
    "    if not os.path.exists(ravenfuturemodeldir+'Raven3.8.exe'): shutil.copy('../scripts/supp/Raven3.8.exe',ravenfuturemodeldir+'Raven3.8.exe')"
   ]
  },
  {
   "cell_type": "markdown",
   "id": "b5d5f46c",
   "metadata": {},
   "source": [
    "## Download OCDP data\n",
    "\n",
    "The first step is to run `scripts/getOCDP.py` to connect with OCDP API and download the future climate projections which come as a set of grid files. *This takes some time (~20 minutes) to complete and downloads roughly 20GB of data per emission scenario.*"
   ]
  },
  {
   "cell_type": "markdown",
   "id": "9874ff99",
   "metadata": {},
   "source": [
    "In the code that follows, only a subset of grid points that cover the CH model area, data are extracted from matlab grid files (.mat) and converted to csv. "
   ]
  },
  {
   "cell_type": "code",
   "execution_count": 5,
   "id": "3b55bf54",
   "metadata": {},
   "outputs": [
    {
     "name": "stdout",
     "output_type": "stream",
     "text": [
      "pr_LAMPS_CSIRO-Mk3-6-0_RCP85_8964X365X119.mat\n",
      "tasmax_LAMPS_CSIRO-Mk3-6-0_RCP85_8964X365X119.mat\n",
      "tasmin_LAMPS_CSIRO-Mk3-6-0_RCP85_8964X365X119.mat\n"
     ]
    }
   ],
   "source": [
    "grdpnts = [8598,8599,8600,8601,8602,8642,8643,8644,8645,8646,8670,8671,8672,8673,8674,8696,8697,8698,8699] # see ../GIS/OCDP/polygon9864-CH.shp\n",
    "\n",
    "# build mask\n",
    "msk = np.zeros(8964, dtype=bool)\n",
    "msk[np.array(grdpnts)-1] = True\n",
    "\n",
    "# collect OCDP-downloaded matlab grid file (.mat) paths\n",
    "fps = list()\n",
    "for root, _, files in os.walk('output/OCDP/'+rcp+'/'):\n",
    "    for filename in files:\n",
    "        if filename.lower().endswith('.mat'): fps.append(os.path.join(root, filename))\n",
    "\n",
    "dtrng = pd.date_range(start=\"1981-01-01\",end=\"2099-12-31\")\n",
    "dtrng = dtrng[~((dtrng.month == 2) & (dtrng.day == 29))] # ignore leap days (https://github.com/pandas-dev/pandas/issues/56968)\n",
    "colnams = [\"g\"+str(i) for i in grdpnts]\n",
    "gpr, gtn, gtx = None, None, None\n",
    "for fp in fps:\n",
    "    fn = os.path.basename(fp)\n",
    "    stp = fn.split(\"_\")\n",
    "    par = stp[0]\n",
    "    mdl = stp[2]\n",
    "    if mdl != modelname: continue\n",
    "    print(fn)\n",
    "    frcp = stp[3]\n",
    "\n",
    "    mat = scipy.io.loadmat(fp)['outputData'][msk,:,:].astype(np.float32) # load matlab files (https://lamps.math.yorku.ca/OntarioClimate/index_app_documents.htm#/faq)\n",
    "    mat/=10. # data are converted from integers to decimals\n",
    "    mat = mat.transpose(0,2,1).reshape(len(grdpnts), -1)\n",
    "\n",
    "    df = pd.DataFrame(mat.T, columns=colnams, index=dtrng)\n",
    "    df.index.name='Date'\n",
    "    # df.to_csv(ravenfuturemodeldir+'dat/'+fn+\".csv\")\n",
    "    \n",
    "    if par=='pr':\n",
    "        gpr = df\n",
    "    elif par=='tasmin':\n",
    "        gtn = df\n",
    "    elif par=='tasmax':\n",
    "        gtx = df"
   ]
  },
  {
   "cell_type": "markdown",
   "id": "498196f7",
   "metadata": {},
   "source": [
    "## Perform overlay analysis\n",
    "\n",
    "this block will overlay the CH sub-watersheds and the OCDP grid in order to determine the proportion with which the OCDP layer covers each sub-watersheds. This proportion will then be used to weight future climate imports accordingly."
   ]
  },
  {
   "cell_type": "code",
   "execution_count": 6,
   "id": "2089ee65",
   "metadata": {},
   "outputs": [],
   "source": [
    "def getGeoms(fp,anam):\n",
    "    sf = shapefile.Reader(fp)\n",
    "    shp = sf.shapes()\n",
    "    attr = sf.records()\n",
    "    return [shape(s.__geo_interface__) for s in shp], [a[anam] for a in attr]\n",
    "\n",
    "sws_geom, sws_id = getGeoms(swsfp,'SubId') # import Raven subwatersheds\n",
    "ocdp_geom, ocdp_id =  getGeoms(ocdpfp,'id') # import OCDP overlay grid\n",
    "\n",
    "coll = []\n",
    "for i, gsws in enumerate(sws_geom):\n",
    "    asws = gsws.area\n",
    "    for j, gocdp in enumerate(ocdp_geom):\n",
    "        intersection = gsws.intersection(gocdp)\n",
    "        if not intersection.is_empty:\n",
    "            intersection_area = intersection.area\n",
    "            proportion = intersection_area / asws if asws > 0 else 0\n",
    "            coll.append({\n",
    "                'SubId': sws_id[i],\n",
    "                'OCDPid': 'g'+str(ocdp_id[j]),\n",
    "                'intersectArea': intersection_area,\n",
    "                'swsArea': asws,\n",
    "                'proportion': proportion\n",
    "            })\n",
    "\n",
    "dfw = pd.DataFrame(coll)\n",
    "# dfw.to_csv('Raven_to_OCDP_intersection_proportions.csv', index=False)"
   ]
  },
  {
   "cell_type": "markdown",
   "id": "33b0877e",
   "metadata": {},
   "source": [
    "Create function to write Raven input files"
   ]
  },
  {
   "cell_type": "code",
   "execution_count": 7,
   "id": "39769818",
   "metadata": {},
   "outputs": [],
   "source": [
    "def writeRvt(fp,df):\n",
    "    with open(fp,\"w\") as f:\n",
    "        f.write(':MultiData\\n')\n",
    "        f.write(' {} {} {}\\n'.format(df.index[0].strftime(\"%Y-%m-%d %H:%M:%S\"), 1, len(df.index)))        \n",
    "        f.write(' :Parameters  TEMP_MAX  TEMP_MIN    PRECIP\\n')\n",
    "        f.write(' :Units              C         C      mm/d\\n')\n",
    "        for _, row in df.iterrows():\n",
    "            f.write('            {:>10.2f}{:>10.2f}{:>10.1f}\\n'.format(round(row['tx'],2)+0, round(row['tn'],2)+0, row['pr']))\n",
    "        f.write(':EndMultiData\\n\\n')"
   ]
  },
  {
   "cell_type": "markdown",
   "id": "8ef45d44",
   "metadata": {},
   "source": [
    "Collect weighted data, write to Raven input files"
   ]
  },
  {
   "cell_type": "code",
   "execution_count": 8,
   "id": "99c3bb81",
   "metadata": {},
   "outputs": [],
   "source": [
    "def weightData(sid):\n",
    "    sdfw = dfw[dfw['SubId']==sid]\n",
    "    wghts = dict(zip(sdfw.OCDPid,sdfw.proportion))\n",
    "    wpr = (gpr[wghts.keys()].mul(wghts)).sum(1)\n",
    "    wtn = (gtn[wghts.keys()].mul(wghts)).sum(1)\n",
    "    wtx = (gtx[wghts.keys()].mul(wghts)).sum(1)\n",
    "    writeRvt(ravenfuturemodeldir+'input/m{}.rvt'.format(sid), pd.DataFrame([wpr,wtn,wtx]).T.rename(columns={0:'pr',1:'tn',2:'tx'}))\n",
    "\n",
    "for sid in set(dfw['SubId']): weightData(sid)"
   ]
  },
  {
   "cell_type": "markdown",
   "id": "b1c2e413",
   "metadata": {},
   "source": [
    "Lastly, a couple changes need to be made to the Raven input files\n",
    "\n",
    "First, adjust date ranges in the .rvi file, for example:\n",
    "\n",
    "```r\n",
    ":StartDate 1981-10-01 00:00:00\n",
    ":EndDate   2099-09-30 00:00:00\n",
    "```\n",
    "\n",
    "> Note: ODCP daily data ranges from 1981-01-01 to 2099-12-31\n",
    "\n",
    "<br>\n",
    "\n",
    "Next, __*remove*__ the following lines from the .rvt file:\n",
    "\n",
    "```python\n",
    "# Observing outlet at subbasin 48 to file: 02HB022.csv \n",
    ":RedirectToFile input\\g02hb022.rvt\n",
    "\n",
    "# Observing outlet at subbasin 54 to file: 02HB028.csv \n",
    ":RedirectToFile input\\g02hb028.rvt\n",
    "\n",
    "# Observing outlet at subbasin 55 to file: 02HB012.csv \n",
    ":RedirectToFile input\\g02hb012.rvt\n",
    "\n",
    "# Observing outlet at subbasin 56 to file: 02HB005.csv \n",
    ":RedirectToFile input\\g02hb005.rvt\n",
    "\n",
    "# Observing outlet at subbasin 57 to file: 02HB004.csv \n",
    ":RedirectToFile input\\g02hb004.rvt\n",
    "\n",
    "# Observing outlet at subbasin 58 to file: 02HB027.csv \n",
    ":RedirectToFile input\\g02hb027.rvt\n",
    "\n",
    "# Observing outlet at subbasin 60 to file: 02HB011.csv \n",
    ":RedirectToFile input\\g02hb011.rvt\n",
    "\n",
    "# Observing outlet at subbasin 63 to file: 02HB033.csv \n",
    ":RedirectToFile input\\g02hb033.rvt\n",
    "\n",
    "# Observing outlet at subbasin 64 to file: 02HB032.csv \n",
    ":RedirectToFile input\\g02hb032.rvt\n",
    "```"
   ]
  }
 ],
 "metadata": {
  "kernelspec": {
   "display_name": "Python 3",
   "language": "python",
   "name": "python3"
  },
  "language_info": {
   "codemirror_mode": {
    "name": "ipython",
    "version": 3
   },
   "file_extension": ".py",
   "mimetype": "text/x-python",
   "name": "python",
   "nbconvert_exporter": "python",
   "pygments_lexer": "ipython3",
   "version": "3.13.7"
  }
 },
 "nbformat": 4,
 "nbformat_minor": 5
}
