{
 "cells": [
  {
   "cell_type": "markdown",
   "metadata": {},
   "source": [
    "# Creating Output Rasters\n",
    "\n",
    "The following script converts Raven model output into raster files readily accessible to standard GIS software (e.g., ArcGIS, QGIS). In addition, simulated long-term average recharge rates are converted into MODFLOW-ready files to simulate the groundwater system (in steady-state) under the Raven-simulated recharge regime."
   ]
  },
  {
   "cell_type": "markdown",
   "metadata": {},
   "source": [
    "## Load Python packages and import data"
   ]
  },
  {
   "cell_type": "code",
   "execution_count": 1,
   "metadata": {},
   "outputs": [],
   "source": [
    "import os\n",
    "import pickle\n",
    "import numpy as np\n",
    "import pandas as pd\n",
    "import shapefile\n",
    "from PIL import Image, ImageDraw"
   ]
  },
  {
   "cell_type": "markdown",
   "metadata": {},
   "source": [
    "### Set model output directory, user settings\n",
    "\n",
    "> Users must change the following input according to the model they wish to convert."
   ]
  },
  {
   "cell_type": "code",
   "execution_count": 2,
   "metadata": {},
   "outputs": [],
   "source": [
    "ravenoutputdir = '../model_baseline/output/' # directory of Raven output\n",
    "modflowdir = '../MODFLOW/'\n",
    "hrufp = '../model_baseline/Raven2025-hruid.bil' # HRU reference map, produced using update_landuse.ipynb\n",
    "swsfp = '../GIS/CH_Subs_Raven2025.shp' # Raven sub-basin polygons\n",
    "mdlprfx = 'Raven2025' # model short-name prefix"
   ]
  },
  {
   "cell_type": "markdown",
   "metadata": {},
   "source": [
    "grid definition"
   ]
  },
  {
   "cell_type": "code",
   "execution_count": 3,
   "metadata": {},
   "outputs": [],
   "source": [
    "# (keep consistent with input raster definition)\n",
    "nrows = 719\n",
    "ncols = 726\n",
    "xul = 1323330\n",
    "yul = 11906070\n",
    "cs = 60. # grid cell width"
   ]
  },
  {
   "cell_type": "markdown",
   "metadata": {},
   "source": [
    "Raven to MODFLOW mapping"
   ]
  },
  {
   "cell_type": "code",
   "execution_count": 4,
   "metadata": {},
   "outputs": [],
   "source": [
    "mapfp = '../scripts/supp/Raven2025_to_SHModel-CH_310_map.pkl' # used to map Raven HRUs to MODFLOW cells"
   ]
  },
  {
   "cell_type": "markdown",
   "metadata": {},
   "source": [
    "## Import HRU ID raster"
   ]
  },
  {
   "cell_type": "code",
   "execution_count": 5,
   "metadata": {},
   "outputs": [],
   "source": [
    "# Reads integer rasters\n",
    "def readIntRaster(fp):\n",
    "    aa = np.fromfile(fp,np.int32)\n",
    "    if len(aa) == nrows*ncols:\n",
    "        x = dict(zip(np.arange(nrows*ncols),aa))\n",
    "    elif len(aa) == nrows*ncols/2:\n",
    "        aa = np.fromfile(fp,np.int16)\n",
    "        x = dict(zip(np.arange(nrows*ncols),aa))\n",
    "    else:\n",
    "        print(\" ** Warning, unknown raster size {}\",fp)\n",
    "        return None\n",
    "    return x"
   ]
  },
  {
   "cell_type": "code",
   "execution_count": 6,
   "metadata": {},
   "outputs": [],
   "source": [
    "xhru = readIntRaster(hrufp) # hruid to MODFLOW cell cross-reference"
   ]
  },
  {
   "cell_type": "markdown",
   "metadata": {},
   "source": [
    "## Import Sub-Basins\n",
    "\n",
    "- Collect raster cells contained within each sub-basin"
   ]
  },
  {
   "cell_type": "code",
   "execution_count": 7,
   "metadata": {},
   "outputs": [],
   "source": [
    "def polygonToCellIDs(pts, nrows=719, ncols=726, xul=1323330, yul=11906070, cs=60):\n",
    "    img = Image.new('L', (ncols, nrows), 0)\n",
    "    offset = [xul, yul-nrows*cs]\n",
    "    pixelpoly = [((x-offset[0])/cs, nrows-(y-offset[1])/cs) for x,y in pts]\n",
    "    ImageDraw.Draw(img).polygon(pixelpoly, outline=1, fill=1)\n",
    "    mask = np.array(img)\n",
    "    return np.arange(nrows*ncols)[mask.reshape(nrows*ncols)>0]    \n",
    "\n",
    "def loadSWS(fp):\n",
    "    sf = shapefile.Reader(fp)\n",
    "    geom = sf.shapes()\n",
    "    attr = sf.records()\n",
    "    xr = dict()\n",
    "    for i in range(len(geom)):\n",
    "        sid = int(attr[i].SubId)\n",
    "        xr[sid] = polygonToCellIDs(geom[i].points)\n",
    "    return xr"
   ]
  },
  {
   "cell_type": "code",
   "execution_count": 8,
   "metadata": {},
   "outputs": [],
   "source": [
    "xsb = loadSWS(swsfp) # sub-basin to cell cross reference"
   ]
  },
  {
   "cell_type": "markdown",
   "metadata": {},
   "source": [
    "## Import Model Outputs\n",
    "\n",
    "- Precipitation\n",
    "- Total actual evapotranspiration (AET)\n",
    "- Runoff\n",
    "- Groundwater recharge\n",
    "- Infiltration\n",
    "- Baseflow"
   ]
  },
  {
   "cell_type": "markdown",
   "metadata": {},
   "source": [
    "### Model output file read function"
   ]
  },
  {
   "cell_type": "code",
   "execution_count": null,
   "metadata": {},
   "outputs": [],
   "source": [
    "def readRaven(fp, isaccumulated, warmup=1200):\n",
    "    # load data\n",
    "    df = pd.read_csv(fp, skiprows=1, parse_dates=['month'], date_format=\"%Y-%m\")\n",
    "    df = df.iloc[:,:-1] # drop last column (..a Raven quirk)\n",
    "    df = df.drop(columns='time')\n",
    "\n",
    "    # change accumulation to discrete monthly values\n",
    "    if isaccumulated:\n",
    "        df2 = df.diff()\n",
    "        df2 = df2.fillna(df)\n",
    "        df2['month'] = df['month']\n",
    "        df = df2\n",
    "\n",
    "    df = df.iloc[warmup//30:,:] # drop warmup period\n",
    "\n",
    "    # rename columns\n",
    "    cols = [w.replace('mean.','').replace('cumulsum.','') for w in list(df.columns)]\n",
    "    cols[1] = '0'\n",
    "    df.columns = cols\n",
    "    df.index=df['month']\n",
    "    df = df.drop(columns='month')\n",
    "\n",
    "\n",
    "    # df = df.groupby(['month']).mean().sum() # long-term mean\n",
    "    df = df.mean(axis=0)*12\n",
    "    return {int(k)+1:v for k,v in df.items()}\n"
   ]
  },
  {
   "cell_type": "code",
   "execution_count": 10,
   "metadata": {},
   "outputs": [
    {
     "name": "stdout",
     "output_type": "stream",
     "text": [
      "Model water-balance (mm/yr):\n",
      "    Precipitation:   813\n",
      "    Total ET:        455\n",
      "    Runoff:          364\n",
      "    Residual:       -6.4\n",
      "      \n",
      "    Runoff:\n",
      "      Quick flow:  196.2\n",
      "      Baseflow     168.3\n",
      "      Recharge     168.3\n",
      "\n"
     ]
    }
   ],
   "source": [
    "dprecip = readRaven(ravenoutputdir+mdlprfx+'_PRECIP_Monthly_CumulSum_ByHRU.csv',False)                                 # precipitation\n",
    "daet = readRaven(ravenoutputdir+mdlprfx+'_AET_Monthly_CumulSum_ByHRU.csv',False)                                       # evapotranspiration\n",
    "dro = readRaven(ravenoutputdir+mdlprfx+'_RUNOFF_Monthly_CumulSum_ByHRU.csv',False)\n",
    "                                      \n",
    "dimpro = readRaven(ravenoutputdir+mdlprfx+'_BETWEEN_PONDED_WATER_AND_SURFACE_WATER_Monthly_Average_ByHRU.csv',True)    # impervious runoff\n",
    "drecharge = readRaven(ravenoutputdir+mdlprfx+'_BETWEEN_SOIL[1]_AND_SOIL[2]_Monthly_Average_ByHRU.csv',True)            # recharge\n",
    "dinfilt =  readRaven(ravenoutputdir+mdlprfx+'_BETWEEN_PONDED_WATER_AND_SOIL[0]_Monthly_Average_ByHRU.csv',True)        # infiltration\n",
    "dbasflw = readRaven(ravenoutputdir+mdlprfx+'_BETWEEN_SOIL[2]_AND_SURFACE_WATER_Monthly_Average_ByHRU.csv',True)        # baseflow\n",
    "\n",
    "dtopslor = readRaven(ravenoutputdir+mdlprfx+'_SOIL[0]_Monthly_Average_ByHRU.csv',True)                                 # topsoil/vadose zone storage\n",
    "dfastslor = readRaven(ravenoutputdir+mdlprfx+'_SOIL[1]_Monthly_Average_ByHRU.csv',True)                                # fast storage\n",
    "dslowslor = readRaven(ravenoutputdir+mdlprfx+'_SOIL[2]_Monthly_Average_ByHRU.csv',True)                                # groundwater storage\n",
    "\n",
    "def pm(d): return np.average(list(d.values()))\n",
    "print(\"\"\"Model water-balance (mm/yr):\n",
    "    Precipitation: {:5.0f}\n",
    "    Total ET:      {:5.0f}\n",
    "    Runoff:        {:5.0f}\n",
    "    Residual:      {:5.1f}\n",
    "      \n",
    "    Runoff:\n",
    "      Quick flow:  {:5.1f}\n",
    "      Baseflow     {:5.1f}\n",
    "      Recharge     {:5.1f}\n",
    "\"\"\".format(pm(dprecip),pm(daet),pm(dro),pm(dprecip)-pm(daet)-pm(dro),pm(dro)-pm(dbasflw),pm(dbasflw),pm(drecharge)))"
   ]
  },
  {
   "cell_type": "markdown",
   "metadata": {},
   "source": [
    "## Map Model Outputs to Raster Files"
   ]
  },
  {
   "cell_type": "code",
   "execution_count": 11,
   "metadata": {},
   "outputs": [],
   "source": [
    "def dictToNp(dat, nr, nc, nodata=-9999.):\n",
    "    def crc(c): # cell to row-col\n",
    "        i = int(c/nc)\n",
    "        j = c - i*nc\n",
    "        return (i,j)    \n",
    "\n",
    "    a = np.full((nr,nc),nodata,dtype=np.float32)\n",
    "    for cid,v in dat.items(): a[crc(cid)] = np.float32(v)\n",
    "    return a\n",
    "\n",
    "\n",
    "def saveBinaryFloat(fp, dat):\n",
    "    fn, _ = os.path.splitext(fp)\n",
    "    with open(fn+'.hdr', 'w') as f: # save header\n",
    "        f.write('BYTEORDER      I\\n')\n",
    "        f.write('LAYOUT         BIL\\n')\n",
    "        f.write('NROWS          '+str(nrows)+'\\n')\n",
    "        f.write('NCOLS          '+str(ncols)+'\\n')\n",
    "        f.write('NBANDS         1\\n')\n",
    "        f.write('NBITS          32\\n')\n",
    "        f.write('BANDROWBYTES   '+str(nrows*4)+'\\n')\n",
    "        f.write('TOTALROWBYTES  '+str(nrows*4)+'\\n')\n",
    "        f.write('PIXELTYPE      FLOAT\\n')\n",
    "        f.write('ULXMAP         '+str(xul+cs/2)+'\\n') # The x-axis map coordinate of the center of the upper-left pixel.\n",
    "        f.write('ULYMAP         '+str(yul-cs/2)+'\\n') # The y-axis map coordinate of the center of the upper-left pixel.\n",
    "        f.write('XDIM           '+str(cs)+'\\n')\n",
    "        f.write('YDIM           '+str(cs)+'\\n')\n",
    "        f.write('NODATA         -9999\\n')\n",
    "\n",
    "    dat = dat.copy()\n",
    "    if type(dat)==dict: dat = dictToNp(dat,nrows,ncols)\n",
    "    if os.path.exists(fp): os.remove(fp)\n",
    "    dat.tofile(fp) # always saved in C-order (row-major)    "
   ]
  },
  {
   "cell_type": "markdown",
   "metadata": {},
   "source": [
    "Water Balance\n",
    "\n",
    "$$ P=EA+Q_\\text{UZ}+G + \\Delta S $$\n",
    "\n",
    "where $P$ is precipitation, $EA$ is total evapotranspiration, $Q_\\text{UZ}$ is runoff, $G$ is groundwater recharge, and $\\Delta S$ is the change in surface storage, calculated as the residual."
   ]
  },
  {
   "cell_type": "code",
   "execution_count": 12,
   "metadata": {},
   "outputs": [
    {
     "name": "stdout",
     "output_type": "stream",
     "text": [
      "Model water-balance residuals (mm/yr):\n",
      "    Residual:                  -2.1\n",
      "    min residual:              -6.8\n",
      "    max residual:              -1.7\n",
      "    water left in storage:     -1.5\n",
      "\n"
     ]
    }
   ],
   "source": [
    "pre = dict()\n",
    "aet = dict()\n",
    "roff = dict()\n",
    "rch = dict()\n",
    "delsto = dict()\n",
    "rsid = dict()\n",
    "wbal = 0\n",
    "for c,h in xhru.items():\n",
    "    if h==-9999: continue\n",
    "    pre[c]=dprecip[h]\n",
    "    aet[c]=daet[h]\n",
    "    roff[c]=dro[h]-dbasflw[h]\n",
    "    rch[c]=drecharge[h]\n",
    "    delsto[c]=dtopslor[h]+dfastslor[h]+dslowslor[h]\n",
    "    if h<5: continue\n",
    "    rsid[c]=pre[c]-aet[c]-roff[c]-rch[c] # water balance residual\n",
    "    # rsid[c]=pre[c]-aet[c]-dro[h] # HRU residual\n",
    "    # rsid[c]=pre[c]-dimpro[h]-dinfilt[h] # surface residual\n",
    "    # rsid[c]=drecharge[h]-dbasflw[h]-dslowslor[h] # groundwater storage reservoir residual\n",
    "    wbal += rsid[c]\n",
    "\n",
    "wbal /= len(xhru)\n",
    "print(\"\"\"Model water-balance residuals (mm/yr):\n",
    "    Residual:               {:7.1f}\n",
    "    min residual:           {:7.1f}\n",
    "    max residual:           {:7.1f}\n",
    "    water left in storage:  {:7.1f}\n",
    "\"\"\".format(wbal,min(rsid.values()), max(rsid.values()), sum(delsto.values())/len(xhru)))"
   ]
  },
  {
   "cell_type": "markdown",
   "metadata": {},
   "source": [
    "save waterbalance components to rasters:"
   ]
  },
  {
   "cell_type": "code",
   "execution_count": 13,
   "metadata": {},
   "outputs": [],
   "source": [
    "saveBinaryFloat(ravenoutputdir+mdlprfx+'_longterm.precipitation.bil',pre)\n",
    "saveBinaryFloat(ravenoutputdir+mdlprfx+'_longterm.evapotranspiration.bil',aet)\n",
    "saveBinaryFloat(ravenoutputdir+mdlprfx+'_longterm.runoff.bil',roff)\n",
    "saveBinaryFloat(ravenoutputdir+mdlprfx+'_longterm.recharge.bil',rch)\n",
    "saveBinaryFloat(ravenoutputdir+mdlprfx+'_longterm.residual.bil',rsid)"
   ]
  },
  {
   "cell_type": "markdown",
   "metadata": {},
   "source": [
    "> Rasters are exported to Raven model output directory: `ravenoutputdir`."
   ]
  },
  {
   "cell_type": "markdown",
   "metadata": {},
   "source": [
    "### CH sub-watershed summaries\n",
    "\n",
    "Long-term averages, exported to csv file, by sub-watershed ID in mm/yr"
   ]
  },
  {
   "cell_type": "code",
   "execution_count": 14,
   "metadata": {},
   "outputs": [
    {
     "name": "stdout",
     "output_type": "stream",
     "text": [
      "       precipitation  evapotranspiration      runoff    recharge\n",
      "swsID                                                           \n",
      "1         743.300445          441.976231  190.316996  114.681241\n",
      "2         753.513795          410.401293  191.032997  155.514590\n",
      "3         770.286839          456.468372  206.997405  110.714519\n",
      "4         819.181608          496.421297  226.252974  100.992670\n",
      "5         767.862204          410.451913  272.706212   88.808675\n",
      "...              ...                 ...         ...         ...\n",
      "66        811.340964          476.862069   68.212468  276.141311\n",
      "68        788.632519          474.948261  152.538042  168.087107\n",
      "69        803.967470          435.687930  803.967470    0.000000\n",
      "70        830.484919          484.408007  235.386243  114.769966\n",
      "71        815.443509          487.787715  187.535352  144.227138\n",
      "\n",
      "[70 rows x 4 columns]\n"
     ]
    }
   ],
   "source": [
    "sp, sa, sr, sg = dict(), dict(), dict(), dict(),\n",
    "for sid, cids in xsb.items():\n",
    "    sp[sid] = 0.\n",
    "    sa[sid] = 0.\n",
    "    sr[sid] = 0.\n",
    "    sg[sid] = 0.\n",
    "    for c in cids:\n",
    "        if not c in pre: continue\n",
    "        sp[sid] += pre[c]\n",
    "        sa[sid] += aet[c]\n",
    "        sr[sid] += roff[c]\n",
    "        sg[sid] += rch[c]\n",
    "    sp[sid] /= len(cids)\n",
    "    sa[sid] /= len(cids)\n",
    "    sr[sid] /= len(cids)\n",
    "    sg[sid] /= len(cids)        \n",
    "\n",
    "df = pd.DataFrame([sp, sa, sr, sg]).T.rename(columns={0:'precipitation',1:'evapotranspiration',2:'runoff',3:'recharge'})\n",
    "df.index.rename('swsID', inplace=True)\n",
    "print(df)\n",
    "df.to_csv(ravenoutputdir+mdlprfx+'_SWS-waterbalance.csv')"
   ]
  },
  {
   "cell_type": "markdown",
   "metadata": {},
   "source": [
    "## Create MODFLOW RCH file\n",
    "\n",
    "The remaining code block uses only the groundwater recharge estimates to produce:\n",
    "\n",
    "1. MODFLOW recharge input file (_*RCH_) \n",
    "2. Significant Groundwater Recharge Areas (SGRAs) exported as a raster"
   ]
  },
  {
   "cell_type": "markdown",
   "metadata": {},
   "source": [
    "First, defined MODFLOW grid definition of `SHModel-CH_310-NWT`:"
   ]
  },
  {
   "cell_type": "code",
   "execution_count": 15,
   "metadata": {},
   "outputs": [],
   "source": [
    "gwNrow = 885\n",
    "gwNcol = 890"
   ]
  },
  {
   "cell_type": "code",
   "execution_count": 16,
   "metadata": {},
   "outputs": [],
   "source": [
    "with open(mapfp,'rb') as f: gmap = pickle.load(f)\n",
    "grch, wrch = dict(), dict()\n",
    "for c,ws in gmap.items():\n",
    "    for cRaven,w in ws.items():\n",
    "        if cRaven==-1: continue\n",
    "        if c in grch:\n",
    "            grch[c]+=w*rch[cRaven]\n",
    "            wrch[c]+=w\n",
    "        else:\n",
    "            grch[c]=w*rch[cRaven]\n",
    "            wrch[c]=w\n",
    "\n",
    "meanrch = sum(grch.values()) / len(grch) \n",
    "for c in gmap:\n",
    "    if c in grch: \n",
    "        grch[c]/=wrch[c]\n",
    "    else:\n",
    "        grch[c]=meanrch # infill with mean recharge where Raven does not cover MODFLOW\n",
    "\n",
    "arch = dictToNp(grch, gwNrow, gwNcol, 0)\n",
    "# arch.tofile(modflowdir+mdlprfx+ \".rch.bil\")\n",
    "hdr = '         3        49   NRCHOP,IRCHCB\\n    0    0   INRECH,INIRCH\\nINTERNAL     3.1689E-11 (890E11.3)   -1   Longterm groundwater recharge from {}'.format(mdlprfx)\n",
    "np.savetxt(modflowdir+mdlprfx+ \".rch\", arch, header=hdr, comments='', fmt='%10.3e', delimiter=' ')\n"
   ]
  },
  {
   "cell_type": "markdown",
   "metadata": {},
   "source": [
    "## Build SGRAs"
   ]
  },
  {
   "cell_type": "code",
   "execution_count": 17,
   "metadata": {},
   "outputs": [
    {
     "name": "stdout",
     "output_type": "stream",
     "text": [
      "SGRA threshold: 156.8 mm/yr\n"
     ]
    }
   ],
   "source": [
    "# mean = np.mean(rch.values)\n",
    "sgra = np.array(list(rch.values()))\n",
    "rchavg = sgra.mean()\n",
    "print('SGRA threshold: {:.1f} mm/yr'.format(rchavg * 1.15)) # mean recharge\n",
    "sgra = dict()\n",
    "for c,r in rch.items():\n",
    "    if r >= rchavg * 1.15:\n",
    "        sgra[c]=1\n",
    "    else:\n",
    "        sgra[c]=0\n",
    "saveBinaryFloat(ravenoutputdir+mdlprfx+'_longterm.recharge-SGRA.bil',sgra)"
   ]
  }
 ],
 "metadata": {
  "kernelspec": {
   "display_name": "Python 3",
   "language": "python",
   "name": "python3"
  },
  "language_info": {
   "codemirror_mode": {
    "name": "ipython",
    "version": 3
   },
   "file_extension": ".py",
   "mimetype": "text/x-python",
   "name": "python",
   "nbconvert_exporter": "python",
   "pygments_lexer": "ipython3",
   "version": "3.13.7"
  }
 },
 "nbformat": 4,
 "nbformat_minor": 2
}
